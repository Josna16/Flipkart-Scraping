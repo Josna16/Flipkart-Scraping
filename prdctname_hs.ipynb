{
 "cells": [
  {
   "cell_type": "code",
   "execution_count": 12,
   "metadata": {},
   "outputs": [
    {
     "name": "stdout",
     "output_type": "stream",
     "text": [
      "['Lifebuoy Total  Hand Sanitizer Bottle\\xa0\\xa0(500 ml)', 'Lifebuoy Total Sanitizer Hand Sanitizer Pump Dispenser\\xa0\\xa0(500 ml)', 'Savlon Active Gel Hand Sanitizer Bottle\\xa0\\xa0(8 x 100 ml)', 'Mediker Instantly Kills 99.9% Germs Without Water Hand Sanitizer Bottle\\xa0\\xa0(500 ml)', 'Dettol Instant Hand Sanitizer Bottle\\xa0\\xa0(200 ml)', 'Himalaya PureHands - Orange Hand Sanitizer Bottle\\xa0\\xa0(500 ml)', 'Dabur Hand Sanitizing Rub Hand Sanitizer Bottle\\xa0\\xa0(450 ml)', 'Palmolive Anti-bacterial Alcohol Based Hand Sanitizer Bottle\\xa0\\xa0(500 ml)', 'Aryanveda Herbals Bodyguard  50 ML/Bottle (Pack of 12) Hand Sanitizer Bottle\\xa0\\xa0(12 x 50 ml)', 'Savlon Hygienic Hand Rub Refill Hand Sanitizer Bottle\\xa0\\xa0(500 ml)', 'Khadi Organique Hand sanitizer kills 99.99% germs and infection without water with triple action formula sanitizes hands, pH balanced, nourishes skin  Can Hand Sanitizer Can\\xa0\\xa0(2 x 5 L)', 'Flipkart SmartBuy Health Plus Hand Sanitiser\\xa0\\xa0(500 ml)', 'The Man Company Aloe Vera & Neem  gel with 70% alcohol (Pack of 4) Hand Sanitizer Bottle\\xa0\\xa0(4 x 100 ml)', 'VDL 5 Litre 77% Alcohol based Liquid  Hand Sanitizer Can\\xa0\\xa0(5 L)', 'VLCC Advanced Hand Santizer Hand Sanitizer Pump Dispenser\\xa0\\xa0(2 x 500 ml)', 'The Man Company Aloe Vera & Neem  gel with 70% alcohol (Pack of 6) Hand Sanitizer Bottle\\xa0\\xa0(6 x 100 ml)', 'Khadi Organique  kills 99.99% germs and infection without water with triple action formula sanitizes hands, pH balanced, nourishes skin Hand Sanitizer Bottle\\xa0\\xa0(2 x 210 ml)', 'Himalaya PURE HANDS ORANGE SANITIZER, 100 ML PACK, SET OF 10 PACKS, TOTAL 1000 ML Hand Sanitizer Bottle\\xa0\\xa0(10 x 100 ml)', 'Nyle Strawberry Hand Sanitizer Bottle\\xa0\\xa0(400 ml)', 'LILIUM Herbal  Hand Sanitizer Bottle\\xa0\\xa0(1 L)', 'Indus Valley Hand Sanitz With Aloe Vera - For Instant Hand Cleaner (500ml) Hand Sanitizer Bottle\\xa0\\xa0(500 ml)', 'Saferub 80% Alcohol Based  WHO recommended formula Hand Sanitizer Can\\xa0\\xa0(5000 ml)', 'Nyle Green Apple Hand Sanitizer Bottle\\xa0\\xa0(400 ml)', 'Aryanveda Herbals Bodyguard  Disinfectant Gel 100 ml Each, Pack of 6 Hand Sanitizer Bottle\\xa0\\xa0(6 x 100 ml)', 'J.J JUMERA ADVANCED HAND SANITISER SMOOTHING & MOISTURING (110ML ) PACK OF 3 Hand Sanitizer Pump Dispenser\\xa0\\xa0(3 x 110 ml)', 'ORILEY Instant Handrub 70% Isopropyl Alcohol Waterless Liquid Rinse-free Germ Protection Palm Hand Sanitizer Bottle\\xa0\\xa0(1000 ml)', 'Friego 70% Alcohol Based  (Instantly Kill 99.99% germs without water) Hand Sanitizer Bottle\\xa0\\xa0(5 x 100 ml)', 'Friego Extra Strong Multi Flavor  Combo With 75% Alcohol Content (Kills 99.99% Of germs & Viruses) Hand Sanitizer Bottle\\xa0\\xa0(4 x 250 ml)', 'AroMine Hands Sanitizer for All Kind of - Anti-Bacterial  With Aloe & Vitamin-E- 50ML-Packof-8-Bottle- Hand Sanitizer Bottle\\xa0\\xa0(8 x 50 ml)', 'Cipla CIPHANDS 100 ML PACK OF 10 TOTAL 1000 ML Hand Sanitizer Bottle\\xa0\\xa0(1000 ml)', 'Earthvedic Instant  500 ml 70% Spray + 100 ml Gel Combo Offer Pack Hand Sanitizer Bottle\\xa0\\xa0(600 ml)', 'TRB The Right Blend Fruity Glycol  Hand Sanitizer Bottle\\xa0\\xa0(2 x 100 ml)', 'The Man Company Aloe Vera & Neem  gel with 70% alcohol (Pack of 10) Hand Sanitizer Bottle\\xa0\\xa0(10 x 100 ml)', 'VDL 76% Vintage Alcohol  5 Liter Pack Hand Sanitizer Can\\xa0\\xa0(5 L)', 'Inlife  70% Alcohol Based Sanitizer, Germ Protection, Anti-Bacterial Hand Sanitizer Bottle\\xa0\\xa0(2 x 100 ml)', 'Viraj Alco-Pure  100ml (Pack of 6) Hand Sanitizer Bottle\\xa0\\xa0(6 x 100 ml)', 'Biofresh  Spray ( Pack of 2 ) Hand Sanitizer Bottle\\xa0\\xa0(2 x 500 ml)', 'Viraj Alco-Pure  500ml (Pack of 2) Hand Sanitizer Bottle\\xa0\\xa0(2 x 500 ml)', 'Dr. Morepen Gubb Protect  Small Combo Alcohol Based Hand Wash Hand Rub Bottle\\xa0\\xa0(4 x 100 ml)', 'Viraj Alco-Pure  100ml (Pack of 9) Hand Sanitizer Bottle\\xa0\\xa0(9 x 100 ml)']\n"
     ]
    }
   ],
   "source": [
    "from bs4 import BeautifulSoup\n",
    "import urllib\n",
    "url=\"https://www.flipkart.com/search?q=hand%20sanitizer&otracker=search&otracker1=search&marketplace=FLIPKART&as-show=on&as=off\"\n",
    "page=urllib.request.urlopen(url)\n",
    "soup=BeautifulSoup(page,\"html.parser\")\n",
    "product_name=[]\n",
    "list_names=soup.find_all(\"a\",class_=\"_2cLu-l\")\n",
    "for i in list_names:\n",
    "    link=\"https://www.flipkart.com\"+i[\"href\"]\n",
    "    webpage2=urllib.request.urlopen(link)\n",
    "    soup2=BeautifulSoup(webpage2,\"html.parser\")\n",
    "    product_name.append(soup2.find(\"span\",class_=\"_35KyD6\").getText())\n",
    "print(product_name)\n",
    "    "
   ]
  },
  {
   "cell_type": "code",
   "execution_count": null,
   "metadata": {},
   "outputs": [],
   "source": []
  }
 ],
 "metadata": {
  "kernelspec": {
   "display_name": "Python 3",
   "language": "python",
   "name": "python3"
  },
  "language_info": {
   "codemirror_mode": {
    "name": "ipython",
    "version": 3
   },
   "file_extension": ".py",
   "mimetype": "text/x-python",
   "name": "python",
   "nbconvert_exporter": "python",
   "pygments_lexer": "ipython3",
   "version": "3.7.6"
  }
 },
 "nbformat": 4,
 "nbformat_minor": 4
}
