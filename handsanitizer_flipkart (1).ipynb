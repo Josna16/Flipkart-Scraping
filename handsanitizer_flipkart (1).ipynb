{
 "cells": [
  {
   "cell_type": "markdown",
   "metadata": {},
   "source": [
    "# <ins> My \"First\" ever Jupyter Notebook</ins>"
   ]
  },
  {
   "cell_type": "markdown",
   "metadata": {
    "cell_style": "center"
   },
   "source": [
    "<img src=\"https://thewellcommunity.org/files/blog-images/blog-images-2012/pencil-paper.jpg\" alt=\"Drawing\" style=\"width: 1000px;\"/>"
   ]
  },
  {
   "cell_type": "markdown",
   "metadata": {},
   "source": [
    ">Just as a child steps into school for the first time,i have stepped into the world of __*Jupyter Notebooks*__.Of course this couldnt be my literal \"first ever\" notebook,but the first one, writing which i had felt _\"Finally !! I have come up with something good\"_ (Or perhaps the first one after i learned markdown)<br>In school usually we start learning to write using a pencil instead of a pen,hoping one day we would be good enough for the teacher to think that we are ready for pens.Similarly I have started with a pencil,waiting for me to learn from many mistakes yet to come which would make me stronger to make the perfect notebooks.<br>I have started with a fairly simple code for [**web scraping**](https://en.wikipedia.org/wiki/Web_scraping).\n",
    " "
   ]
  },
  {
   "cell_type": "markdown",
   "metadata": {},
   "source": [
    "## <ins> About the code </ins>"
   ]
  },
  {
   "cell_type": "markdown",
   "metadata": {},
   "source": [
    ">This what i have attempted to do through the code.\n",
    "- scraping the details of hand sanitizers from [flipkart][first_link]\n",
    "- saving this details as a csv file \n",
    "\n",
    ">I have scrapped the details abput hand sanitizers from [flipkart][first_link] which includes the following:\n",
    "1. Product Name  \n",
    "2. Price\n",
    "3. Quantity\n",
    "4. Rating\n",
    "[first_link]: https://www.flipkart.com/\n"
   ]
  },
  {
   "cell_type": "markdown",
   "metadata": {},
   "source": [
    "##  <ins> Packages used </ins>"
   ]
  },
  {
   "cell_type": "markdown",
   "metadata": {},
   "source": [
    "The packages used are:\n",
    "- BeautifulSoup\n",
    "- csv"
   ]
  },
  {
   "cell_type": "markdown",
   "metadata": {},
   "source": [
    ">The code is as follows:"
   ]
  },
  {
   "cell_type": "code",
   "execution_count": 1,
   "metadata": {},
   "outputs": [],
   "source": [
    "from bs4 import BeautifulSoup\n",
    "import urllib\n",
    "import pandas\n",
    "import csv\n",
    "import matplotlib.pyplot as plt\n",
    "url=\"https://www.flipkart.com/search?q=hand%20sanitizer&otracker=search&otracker1=search&marketplace=FLIPKART&as-show=on&as=off\"\n",
    "page=urllib.request.urlopen(url)\n",
    "soup=BeautifulSoup(page,\"html.parser\")\n",
    "fields=[\"Product_Name\",\"Quantity\",\"Price\",\"Rating\"]\n",
    "rows=[]\n",
    "list_hs=soup.find_all(\"div\",attrs={\"class\":\"_3liAhj\"})\n",
    "product_name=[]\n",
    "list_names=soup.find_all(\"a\",class_=\"_2cLu-l\")\n",
    "for i in list_names:\n",
    "    link=\"https://www.flipkart.com\"+i[\"href\"]\n",
    "    webpage2=urllib.request.urlopen(link)\n",
    "    soup2=BeautifulSoup(webpage2,\"html.parser\")\n",
    "    product_name.append(soup2.find(\"span\",class_=\"_35KyD6\").getText())\n",
    "list_q=soup.find_all(\"div\",class_=\"_1rcHFq\")\n",
    "list_price=soup.find_all(\"div\",class_=\"_1vC4OE\")\n",
    "\n",
    "prlist=[]\n",
    "pricelist=[]\n",
    "\n",
    "for i in range(0,len(list_hs)):\n",
    "    productName=product_name[i]\n",
    "    quantity=list_q[i].getText()\n",
    "    price=list_price[i].getText()\n",
    "    \n",
    "    rows.append([productName,quantity,price])\n",
    "\n",
    "    \n",
    "\n",
    "filename=\"handsanitizer_fk.csv\"\n",
    "with open(filename,\"w\", encoding=\"utf-8\") as csvfile:\n",
    "    csvwriter=csv.writer(csvfile)\n",
    "    csvwriter.writerow(fields)\n",
    "    csvwriter.writerows(rows)\n",
    "    \n"
   ]
  },
  {
   "cell_type": "markdown",
   "metadata": {},
   "source": [
    "> So this was my _\"first\"_ ever notebook..  \n",
    "Thank You!!"
   ]
  }
 ],
 "metadata": {
  "kernelspec": {
   "display_name": "Python 3",
   "language": "python",
   "name": "python3"
  },
  "language_info": {
   "codemirror_mode": {
    "name": "ipython",
    "version": 3
   },
   "file_extension": ".py",
   "mimetype": "text/x-python",
   "name": "python",
   "nbconvert_exporter": "python",
   "pygments_lexer": "ipython3",
   "version": "3.7.6"
  },
  "toc": {
   "base_numbering": 1,
   "nav_menu": {},
   "number_sections": true,
   "sideBar": true,
   "skip_h1_title": false,
   "title_cell": "Table of Contents",
   "title_sidebar": "Contents",
   "toc_cell": false,
   "toc_position": {},
   "toc_section_display": true,
   "toc_window_display": false
  }
 },
 "nbformat": 4,
 "nbformat_minor": 4
}
