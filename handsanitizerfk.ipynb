{
 "cells": [
  {
   "cell_type": "markdown",
   "metadata": {},
   "source": [
    "# __<font color=Black>Comparing the price of hand sanitizers in flipkart</font>__"
   ]
  },
  {
   "cell_type": "code",
   "execution_count": 1,
   "metadata": {},
   "outputs": [],
   "source": [
    "from bs4 import BeautifulSoup\n",
    "import urllib\n",
    "import pandas\n",
    "import csv\n",
    "url=\"https://www.flipkart.com/search?q=hand%20sanitizer&otracker=search&otracker1=search&marketplace=FLIPKART&as-show=on&as=off\"\n",
    "page=urllib.request.urlopen(url)\n",
    "soup=BeautifulSoup(page,\"html.parser\")\n",
    "list_hs=soup.find_all(\"div\",attrs={\"class\":\"_3liAhj\"})\n",
    "prdct_names=[]\n",
    "link=[]\n",
    "quantity=[]\n",
    "price=[]\n",
    "rate=[]\n",
    "list_names=soup.find_all(\"a\",class_=\"_2cLu-l\")\n",
    "for i in list_names:\n",
    "    list=[]\n",
    "    name=i.getText()\n",
    "    list.append(name)\n",
    "    prdct_names.append(list)\n",
    "for i in list_names:\n",
    "    list=[]\n",
    "    j=\"https://www.flipkart.com\"+i[\"href\"]\n",
    "    web_page2=urllib.request.urlopen(j)\n",
    "    list.append(j)\n",
    "    link.append(list)\n",
    "list_q=soup.find_all(\"div\",class_=\"_1rcHFq\")\n",
    "for i in list_q:\n",
    "    list=[]\n",
    "    quan=i.getText()\n",
    "    list.append(quan)\n",
    "    quantity.append(list)\n",
    "list_price=soup.find_all(\"div\",class_=\"_1vC4OE\")\n",
    "for i in list_price:\n",
    "    list=[]\n",
    "    pr=i.getText()\n",
    "    list.append(pr)\n",
    "    price.append(list)\n",
    "list_rate=soup.find_all(\"div\",class_=\"hGSR34\")\n",
    "for i in list_rate:\n",
    "    list=[]\n",
    "    rt=i.getText()\n",
    "    list.append(rt)\n",
    "    rate.append(list)\n",
    "filename=\"handsanitizers_fk.csv\"\n",
    "with open(filename,\"w\") as cfile:\n",
    "    csvwriter=csv.writer(cfile)\n",
    "     \n",
    "    \n",
    "\n",
    "\n"
   ]
  },
  {
   "cell_type": "code",
   "execution_count": null,
   "metadata": {},
   "outputs": [],
   "source": []
  }
 ],
 "metadata": {
  "kernelspec": {
   "display_name": "Python 3",
   "language": "python",
   "name": "python3"
  },
  "language_info": {
   "codemirror_mode": {
    "name": "ipython",
    "version": 3
   },
   "file_extension": ".py",
   "mimetype": "text/x-python",
   "name": "python",
   "nbconvert_exporter": "python",
   "pygments_lexer": "ipython3",
   "version": "3.7.6"
  }
 },
 "nbformat": 4,
 "nbformat_minor": 4
}
